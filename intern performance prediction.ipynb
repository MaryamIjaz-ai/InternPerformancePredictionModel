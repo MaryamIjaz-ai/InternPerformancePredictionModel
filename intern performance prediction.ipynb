{
  "nbformat": 4,
  "nbformat_minor": 0,
  "metadata": {
    "colab": {
      "provenance": []
    },
    "kernelspec": {
      "name": "python3",
      "display_name": "Python 3"
    },
    "language_info": {
      "name": "python"
    }
  },
  "cells": [
    {
      "cell_type": "code",
      "execution_count": 1,
      "metadata": {
        "colab": {
          "base_uri": "https://localhost:8080/"
        },
        "id": "YCg12PmwKjjM",
        "outputId": "4e7dbaf9-f04a-484e-c78d-a3d13aeb2aed"
      },
      "outputs": [
        {
          "output_type": "stream",
          "name": "stdout",
          "text": [
            "Requirement already satisfied: pandas in /usr/local/lib/python3.11/dist-packages (2.2.2)\n",
            "Requirement already satisfied: scikit-learn in /usr/local/lib/python3.11/dist-packages (1.6.1)\n",
            "Requirement already satisfied: xgboost in /usr/local/lib/python3.11/dist-packages (2.1.4)\n",
            "Requirement already satisfied: matplotlib in /usr/local/lib/python3.11/dist-packages (3.10.0)\n",
            "Requirement already satisfied: seaborn in /usr/local/lib/python3.11/dist-packages (0.13.2)\n",
            "Requirement already satisfied: numpy>=1.23.2 in /usr/local/lib/python3.11/dist-packages (from pandas) (2.0.2)\n",
            "Requirement already satisfied: python-dateutil>=2.8.2 in /usr/local/lib/python3.11/dist-packages (from pandas) (2.9.0.post0)\n",
            "Requirement already satisfied: pytz>=2020.1 in /usr/local/lib/python3.11/dist-packages (from pandas) (2025.2)\n",
            "Requirement already satisfied: tzdata>=2022.7 in /usr/local/lib/python3.11/dist-packages (from pandas) (2025.2)\n",
            "Requirement already satisfied: scipy>=1.6.0 in /usr/local/lib/python3.11/dist-packages (from scikit-learn) (1.15.3)\n",
            "Requirement already satisfied: joblib>=1.2.0 in /usr/local/lib/python3.11/dist-packages (from scikit-learn) (1.5.1)\n",
            "Requirement already satisfied: threadpoolctl>=3.1.0 in /usr/local/lib/python3.11/dist-packages (from scikit-learn) (3.6.0)\n",
            "Requirement already satisfied: nvidia-nccl-cu12 in /usr/local/lib/python3.11/dist-packages (from xgboost) (2.21.5)\n",
            "Requirement already satisfied: contourpy>=1.0.1 in /usr/local/lib/python3.11/dist-packages (from matplotlib) (1.3.2)\n",
            "Requirement already satisfied: cycler>=0.10 in /usr/local/lib/python3.11/dist-packages (from matplotlib) (0.12.1)\n",
            "Requirement already satisfied: fonttools>=4.22.0 in /usr/local/lib/python3.11/dist-packages (from matplotlib) (4.58.4)\n",
            "Requirement already satisfied: kiwisolver>=1.3.1 in /usr/local/lib/python3.11/dist-packages (from matplotlib) (1.4.8)\n",
            "Requirement already satisfied: packaging>=20.0 in /usr/local/lib/python3.11/dist-packages (from matplotlib) (24.2)\n",
            "Requirement already satisfied: pillow>=8 in /usr/local/lib/python3.11/dist-packages (from matplotlib) (11.2.1)\n",
            "Requirement already satisfied: pyparsing>=2.3.1 in /usr/local/lib/python3.11/dist-packages (from matplotlib) (3.2.3)\n",
            "Requirement already satisfied: six>=1.5 in /usr/local/lib/python3.11/dist-packages (from python-dateutil>=2.8.2->pandas) (1.17.0)\n"
          ]
        }
      ],
      "source": [
        "pip install pandas scikit-learn xgboost matplotlib seaborn\n"
      ]
    },
    {
      "cell_type": "code",
      "source": [
        "import pandas as pd\n",
        "import numpy as np\n",
        "import matplotlib.pyplot as plt\n",
        "import seaborn as sns\n",
        "\n",
        "from sklearn.model_selection import train_test_split\n",
        "from sklearn.preprocessing import StandardScaler\n",
        "from sklearn.ensemble import RandomForestRegressor\n",
        "from xgboost import XGBRegressor\n",
        "from sklearn.metrics import mean_squared_error, r2_score\n",
        "\n",
        "# Step 1: Load Dataset\n",
        "df = pd.read_csv(\"/content/intern_performance_data.csv\")\n",
        "\n",
        "# Step 2: View and clean data\n",
        "print(df.head())\n",
        "print(df.isnull().sum())\n",
        "\n",
        "# Optional: Drop intern_id if present\n",
        "if 'intern_id' in df.columns:\n",
        "    df.drop('intern_id', axis=1, inplace=True)\n",
        "\n",
        "df.dropna(inplace=True)\n",
        "\n",
        "# Step 3: Define Features & Target\n",
        "X = df.drop('final_score', axis=1)\n",
        "y = df['final_score']\n",
        "\n",
        "# Step 4: Train-test split\n",
        "X_train, X_test, y_train, y_test = train_test_split(X, y, test_size=0.2, random_state=42)\n",
        "\n",
        "# Step 5: Feature scaling\n",
        "scaler = StandardScaler()\n",
        "X_train_scaled = scaler.fit_transform(X_train)\n",
        "X_test_scaled = scaler.transform(X_test)\n",
        "\n",
        "# Step 6: Random Forest Regressor\n",
        "rf_model = RandomForestRegressor(n_estimators=100, random_state=42)\n",
        "rf_model.fit(X_train_scaled, y_train)\n",
        "rf_preds = rf_model.predict(X_test_scaled)\n",
        "\n",
        "# Step 7: XGBoost Regressor\n",
        "xgb_model = XGBRegressor(n_estimators=100, learning_rate=0.1, random_state=42)\n",
        "xgb_model.fit(X_train_scaled, y_train)\n",
        "xgb_preds = xgb_model.predict(X_test_scaled)\n",
        "\n",
        "# Step 8: Evaluate Models\n",
        "def evaluate(y_true, y_pred, model_name):\n",
        "    print(f\"\\n--- {model_name} ---\")\n",
        "    print(\"R2 Score:\", r2_score(y_true, y_pred))\n",
        "    print(\"RMSE:\", np.sqrt(mean_squared_error(y_true, y_pred)))\n",
        "\n",
        "evaluate(y_test, rf_preds, \"Random Forest Regressor\")\n",
        "evaluate(y_test, xgb_preds, \"XGBoost Regressor\")\n",
        "\n",
        "# Step 9: Feature Importance (Random Forest)\n",
        "importances = rf_model.feature_importances_\n",
        "features = X.columns\n",
        "\n",
        "sns.barplot(x=importances, y=features)\n",
        "plt.title(\"Feature Importances (Random Forest)\")\n",
        "plt.tight_layout()\n",
        "plt.show()\n"
      ],
      "metadata": {
        "colab": {
          "base_uri": "https://localhost:8080/",
          "height": 956
        },
        "id": "xd6SADq8KvNf",
        "outputId": "80793a97-3c0e-464c-aa5d-f7c1f7453c6a"
      },
      "execution_count": 2,
      "outputs": [
        {
          "output_type": "stream",
          "name": "stdout",
          "text": [
            "  intern_id  task_completion_time  feedback_rating  attendance_rate  \\\n",
            "0   INT1000                  5.75                4               93   \n",
            "1   INT1001                  4.79                9               70   \n",
            "2   INT1002                  5.97                8               93   \n",
            "3   INT1003                  7.28                4               89   \n",
            "4   INT1004                  4.65                6               80   \n",
            "\n",
            "   final_score  \n",
            "0        77.14  \n",
            "1        62.54  \n",
            "2        76.73  \n",
            "3        78.85  \n",
            "4        66.16  \n",
            "intern_id               0\n",
            "task_completion_time    0\n",
            "feedback_rating         0\n",
            "attendance_rate         0\n",
            "final_score             0\n",
            "dtype: int64\n",
            "\n",
            "--- Random Forest Regressor ---\n",
            "R2 Score: -0.19667799426896515\n",
            "RMSE: 13.034095778188819\n",
            "\n",
            "--- XGBoost Regressor ---\n",
            "R2 Score: -0.1972116037639331\n",
            "RMSE: 13.037001464653484\n"
          ]
        },
        {
          "output_type": "display_data",
          "data": {
            "text/plain": [
              "<Figure size 640x480 with 1 Axes>"
            ],
            "image/png": "[encoded data removed]"
          },
          "metadata": {}
        }
      ]
    }
  ]
}